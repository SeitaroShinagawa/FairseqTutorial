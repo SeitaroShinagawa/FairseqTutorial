{
 "cells": [
  {
   "cell_type": "code",
   "execution_count": 32,
   "metadata": {},
   "outputs": [],
   "source": [
    "import pickle\n",
    "import numpy as np\n",
    "import pandas as pd"
   ]
  },
  {
   "cell_type": "code",
   "execution_count": 33,
   "metadata": {},
   "outputs": [],
   "source": [
    "# config\n",
    "data_path = './data/datalab-cup3-reverse-image-caption-2021/dataset/text2ImgData.pkl'\n",
    "dictionary_path = './data/datalab-cup3-reverse-image-caption-2021/dictionary/id2Word.npy'\n",
    "images_dir = ''\n",
    "output_dir = './data/datalab-cup3-reverse-image-caption-2021'"
   ]
  },
  {
   "cell_type": "code",
   "execution_count": 34,
   "metadata": {},
   "outputs": [],
   "source": [
    "# show text2Img data\n",
    "with open(data_path, 'rb') as f:\n",
    "    data = pickle.load(f)"
   ]
  },
  {
   "cell_type": "code",
   "execution_count": 35,
   "metadata": {},
   "outputs": [
    {
     "data": {
      "text/html": [
       "<div>\n",
       "<style scoped>\n",
       "    .dataframe tbody tr th:only-of-type {\n",
       "        vertical-align: middle;\n",
       "    }\n",
       "\n",
       "    .dataframe tbody tr th {\n",
       "        vertical-align: top;\n",
       "    }\n",
       "\n",
       "    .dataframe thead th {\n",
       "        text-align: right;\n",
       "    }\n",
       "</style>\n",
       "<table border=\"1\" class=\"dataframe\">\n",
       "  <thead>\n",
       "    <tr style=\"text-align: right;\">\n",
       "      <th></th>\n",
       "      <th>Captions</th>\n",
       "      <th>ImagePath</th>\n",
       "    </tr>\n",
       "    <tr>\n",
       "      <th>ID</th>\n",
       "      <th></th>\n",
       "      <th></th>\n",
       "    </tr>\n",
       "  </thead>\n",
       "  <tbody>\n",
       "    <tr>\n",
       "      <th>6734</th>\n",
       "      <td>[[9, 2, 17, 9, 1, 6, 14, 13, 18, 3, 41, 8, 11,...</td>\n",
       "      <td>./102flowers/image_06734.jpg</td>\n",
       "    </tr>\n",
       "    <tr>\n",
       "      <th>6736</th>\n",
       "      <td>[[4, 1, 5, 12, 2, 3, 11, 31, 28, 68, 106, 132,...</td>\n",
       "      <td>./102flowers/image_06736.jpg</td>\n",
       "    </tr>\n",
       "    <tr>\n",
       "      <th>6737</th>\n",
       "      <td>[[9, 2, 27, 4, 1, 6, 14, 7, 12, 19, 5427, 5427...</td>\n",
       "      <td>./102flowers/image_06737.jpg</td>\n",
       "    </tr>\n",
       "    <tr>\n",
       "      <th>6738</th>\n",
       "      <td>[[9, 1, 5, 8, 54, 16, 38, 7, 12, 116, 325, 3, ...</td>\n",
       "      <td>./102flowers/image_06738.jpg</td>\n",
       "    </tr>\n",
       "    <tr>\n",
       "      <th>6739</th>\n",
       "      <td>[[4, 12, 1, 5, 29, 11, 19, 7, 26, 70, 5427, 54...</td>\n",
       "      <td>./102flowers/image_06739.jpg</td>\n",
       "    </tr>\n",
       "    <tr>\n",
       "      <th>6741</th>\n",
       "      <td>[[4, 1, 5, 158, 39, 157, 34, 14, 2, 7, 8, 11, ...</td>\n",
       "      <td>./102flowers/image_06741.jpg</td>\n",
       "    </tr>\n",
       "    <tr>\n",
       "      <th>6742</th>\n",
       "      <td>[[4, 1, 15, 12, 3, 14, 13, 18, 7, 2, 10, 41, 3...</td>\n",
       "      <td>./102flowers/image_06742.jpg</td>\n",
       "    </tr>\n",
       "    <tr>\n",
       "      <th>6743</th>\n",
       "      <td>[[9, 1, 5, 2, 10, 6, 78, 54, 37, 3, 166, 80, 5...</td>\n",
       "      <td>./102flowers/image_06743.jpg</td>\n",
       "    </tr>\n",
       "    <tr>\n",
       "      <th>6744</th>\n",
       "      <td>[[14, 2, 7, 623, 3, 21, 235, 9, 19, 67, 6, 39,...</td>\n",
       "      <td>./102flowers/image_06744.jpg</td>\n",
       "    </tr>\n",
       "    <tr>\n",
       "      <th>6745</th>\n",
       "      <td>[[4, 1, 5, 2, 10, 6, 14, 7, 16, 88, 5427, 5427...</td>\n",
       "      <td>./102flowers/image_06745.jpg</td>\n",
       "    </tr>\n",
       "  </tbody>\n",
       "</table>\n",
       "</div>"
      ],
      "text/plain": [
       "                                               Captions  \\\n",
       "ID                                                        \n",
       "6734  [[9, 2, 17, 9, 1, 6, 14, 13, 18, 3, 41, 8, 11,...   \n",
       "6736  [[4, 1, 5, 12, 2, 3, 11, 31, 28, 68, 106, 132,...   \n",
       "6737  [[9, 2, 27, 4, 1, 6, 14, 7, 12, 19, 5427, 5427...   \n",
       "6738  [[9, 1, 5, 8, 54, 16, 38, 7, 12, 116, 325, 3, ...   \n",
       "6739  [[4, 12, 1, 5, 29, 11, 19, 7, 26, 70, 5427, 54...   \n",
       "6741  [[4, 1, 5, 158, 39, 157, 34, 14, 2, 7, 8, 11, ...   \n",
       "6742  [[4, 1, 15, 12, 3, 14, 13, 18, 7, 2, 10, 41, 3...   \n",
       "6743  [[9, 1, 5, 2, 10, 6, 78, 54, 37, 3, 166, 80, 5...   \n",
       "6744  [[14, 2, 7, 623, 3, 21, 235, 9, 19, 67, 6, 39,...   \n",
       "6745  [[4, 1, 5, 2, 10, 6, 14, 7, 16, 88, 5427, 5427...   \n",
       "\n",
       "                         ImagePath  \n",
       "ID                                  \n",
       "6734  ./102flowers/image_06734.jpg  \n",
       "6736  ./102flowers/image_06736.jpg  \n",
       "6737  ./102flowers/image_06737.jpg  \n",
       "6738  ./102flowers/image_06738.jpg  \n",
       "6739  ./102flowers/image_06739.jpg  \n",
       "6741  ./102flowers/image_06741.jpg  \n",
       "6742  ./102flowers/image_06742.jpg  \n",
       "6743  ./102flowers/image_06743.jpg  \n",
       "6744  ./102flowers/image_06744.jpg  \n",
       "6745  ./102flowers/image_06745.jpg  "
      ]
     },
     "execution_count": 35,
     "metadata": {},
     "output_type": "execute_result"
    }
   ],
   "source": [
    "# show heads\n",
    "data[:10]"
   ]
  },
  {
   "cell_type": "code",
   "execution_count": 36,
   "metadata": {},
   "outputs": [
    {
     "data": {
      "text/plain": [
       "array([['0', '<PAD>'],\n",
       "       ['1', 'flower'],\n",
       "       ['2', 'petals'],\n",
       "       ['3', 'and'],\n",
       "       ['4', 'this'],\n",
       "       ['5', 'has'],\n",
       "       ['6', 'are'],\n",
       "       ['7', 'with'],\n",
       "       ['8', 'a'],\n",
       "       ['9', 'the']], dtype='<U21')"
      ]
     },
     "execution_count": 36,
     "metadata": {},
     "output_type": "execute_result"
    }
   ],
   "source": [
    "# load dictionary\n",
    "dictionary = np.load(dictionary_path)\n",
    "dictionary[0:10]"
   ]
  },
  {
   "cell_type": "code",
   "execution_count": 37,
   "metadata": {},
   "outputs": [],
   "source": [
    "# decode caption\n",
    "def decode(tokens):\n",
    "    results = []\n",
    "    for sentence in tokens:\n",
    "        sentence_tokens = []\n",
    "        for token_id in sentence:\n",
    "            if dictionary[int(token_id)][1]!='<PAD>':\n",
    "                sentence_tokens.append(dictionary[int(token_id)][1])\n",
    "        results.append(' '.join(sentence_tokens) + '.')\n",
    "\n",
    "    return results"
   ]
  },
  {
   "cell_type": "code",
   "execution_count": 38,
   "metadata": {},
   "outputs": [
    {
     "data": {
      "text/plain": [
       "['the petals of the flower are pink in color and have a yellow center.',\n",
       " 'this flower is pink and white in color with petals that are multi colored.',\n",
       " 'the purple petals have shades of white with white anther and filament.',\n",
       " 'this flower has large pink petals and a white stigma in the center.',\n",
       " 'this flower has petals that are pink and has a yellow stamen.',\n",
       " 'a flower with short and wide petals that is light purple.',\n",
       " 'this flower has small pink petals with a yellow center.',\n",
       " 'this flower has large rounded pink petals with curved edges and purple veins.',\n",
       " 'this flower has purple petals as well as a white stamen.']"
      ]
     },
     "execution_count": 38,
     "metadata": {},
     "output_type": "execute_result"
    }
   ],
   "source": [
    "decoded = []\n",
    "captions_encoded = data['Captions']\n",
    "\n",
    "for caption in captions_encoded:\n",
    "    decoded.append(decode(caption))\n",
    "\n",
    "# show first data\n",
    "decoded[0]"
   ]
  },
  {
   "cell_type": "code",
   "execution_count": null,
   "metadata": {},
   "outputs": [],
   "source": []
  }
 ],
 "metadata": {
  "interpreter": {
   "hash": "37deb45aeb7f2f571e203ff8ef91f9b15b0acfbda0c5b75c32523e666ec25fa3"
  },
  "kernelspec": {
   "display_name": "Python 3.7.10 ('.venv': venv)",
   "language": "python",
   "name": "python3"
  },
  "language_info": {
   "codemirror_mode": {
    "name": "ipython",
    "version": 3
   },
   "file_extension": ".py",
   "mimetype": "text/x-python",
   "name": "python",
   "nbconvert_exporter": "python",
   "pygments_lexer": "ipython3",
   "version": "3.7.10"
  },
  "orig_nbformat": 4
 },
 "nbformat": 4,
 "nbformat_minor": 2
}
